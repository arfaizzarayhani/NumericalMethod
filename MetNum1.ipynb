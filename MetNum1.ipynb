{
  "nbformat": 4,
  "nbformat_minor": 0,
  "metadata": {
    "colab": {
      "provenance": [],
      "authorship_tag": "ABX9TyNFqbJig6pkqRkxqKIu1K0f",
      "include_colab_link": true
    },
    "kernelspec": {
      "name": "python3",
      "display_name": "Python 3"
    },
    "language_info": {
      "name": "python"
    }
  },
  "cells": [
    {
      "cell_type": "markdown",
      "metadata": {
        "id": "view-in-github",
        "colab_type": "text"
      },
      "source": [
        "<a href=\"https://colab.research.google.com/github/arfaizzarayhani/NumericalMethod/blob/main/MetNum1.ipynb\" target=\"_parent\"><img src=\"https://colab.research.google.com/assets/colab-badge.svg\" alt=\"Open In Colab\"/></a>"
      ]
    },
    {
      "cell_type": "code",
      "execution_count": 4,
      "metadata": {
        "id": "QT1CYwq6cVJ9"
      },
      "outputs": [],
      "source": [
        "import numpy as np\n",
        "import pandas as pd\n",
        "import matplotlib.pyplot as plt\n",
        "import seaborn as sns\n",
        "import warnings\n",
        "warnings.filterwarnings('ignore')"
      ]
    },
    {
      "cell_type": "code",
      "source": [
        "x = np.random.rand(1,1)\n",
        "x = x[0,0]\n",
        "if x < 0.33:\n",
        "  print(x, \" < 1/3\")\n",
        "elif x < 0.67:\n",
        "  print(\"1/3 <= \",x,\" < 2/3\")\n",
        "else:\n",
        "  print(x, \">= 2/3\")"
      ],
      "metadata": {
        "colab": {
          "base_uri": "https://localhost:8080/"
        },
        "id": "5LODoM5cg1vZ",
        "outputId": "dc2e8372-7928-4dc9-984f-1ee51d3727c6"
      },
      "execution_count": 5,
      "outputs": [
        {
          "output_type": "stream",
          "name": "stdout",
          "text": [
            "1/3 <=  0.5742545696914384  < 2/3\n"
          ]
        }
      ]
    },
    {
      "cell_type": "code",
      "source": [
        "# Lamda function as Phyton function with method def\n",
        "def f(x):\n",
        "  return(x**2+3)\n",
        "\n",
        "print (\"f(10) = \", f(10))\n",
        "print (\"f(8) = \", f(8))"
      ],
      "metadata": {
        "colab": {
          "base_uri": "https://localhost:8080/"
        },
        "id": "VIKUyqtSh-ZG",
        "outputId": "e2b1763b-89e6-40e4-eea1-f40717e64267"
      },
      "execution_count": 6,
      "outputs": [
        {
          "output_type": "stream",
          "name": "stdout",
          "text": [
            "f(10) =  103\n",
            "f(8) =  67\n"
          ]
        }
      ]
    },
    {
      "cell_type": "code",
      "source": [
        "# Lamda function as lambda method on ipynb\n",
        "f = lambda x: x**2+3\n",
        "print (\"f(10) = \", f(10))\n",
        "print (\"f(8) = \", f(8))"
      ],
      "metadata": {
        "colab": {
          "base_uri": "https://localhost:8080/"
        },
        "id": "FsMzXXkwif6r",
        "outputId": "de715883-27d5-41cd-f71a-a25825613319"
      },
      "execution_count": 7,
      "outputs": [
        {
          "output_type": "stream",
          "name": "stdout",
          "text": [
            "f(10) =  103\n",
            "f(8) =  67\n"
          ]
        }
      ]
    }
  ]
}