{
  "nbformat": 4,
  "nbformat_minor": 0,
  "metadata": {
    "colab": {
      "provenance": [],
      "authorship_tag": "ABX9TyPy6n/wK/q/NX1Y7JBs/7hk",
      "include_colab_link": true
    },
    "kernelspec": {
      "name": "python3",
      "display_name": "Python 3"
    },
    "language_info": {
      "name": "python"
    }
  },
  "cells": [
    {
      "cell_type": "markdown",
      "metadata": {
        "id": "view-in-github",
        "colab_type": "text"
      },
      "source": [
        "<a href=\"https://colab.research.google.com/github/arfaizzarayhani/NumericalMethod/blob/main/MetNum1.ipynb\" target=\"_parent\"><img src=\"https://colab.research.google.com/assets/colab-badge.svg\" alt=\"Open In Colab\"/></a>"
      ]
    },
    {
      "cell_type": "code",
      "execution_count": 2,
      "metadata": {
        "id": "QT1CYwq6cVJ9"
      },
      "outputs": [],
      "source": [
        "import numpy as np\n",
        "import pandas as pd\n",
        "import matplotlib.pyplot as plt\n",
        "import seaborn as sns\n",
        "import warnings\n",
        "warnings.filterwarnings('ignore')"
      ]
    },
    {
      "cell_type": "code",
      "source": [
        "x = np.random.rand(1,1)\n",
        "x = x[0,0]\n",
        "if x < 0.33:\n",
        "  print(x, \" < 1/3\")\n",
        "elif x < 0.67:\n",
        "  print(\"1/3 <= \",x,\" < 2/3\")\n",
        "else:\n",
        "  print(x, \">= 2/3\")"
      ],
      "metadata": {
        "colab": {
          "base_uri": "https://localhost:8080/"
        },
        "id": "5LODoM5cg1vZ",
        "outputId": "4bf44f6f-eaef-46d3-cbf0-b28278a995da"
      },
      "execution_count": 3,
      "outputs": [
        {
          "output_type": "stream",
          "name": "stdout",
          "text": [
            "1/3 <=  0.5378107478903037  < 2/3\n"
          ]
        }
      ]
    }
  ]
}