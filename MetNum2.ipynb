{
  "nbformat": 4,
  "nbformat_minor": 0,
  "metadata": {
    "colab": {
      "provenance": [],
      "authorship_tag": "ABX9TyO2NFkS0LYXGKpfUHV4Oqwi",
      "include_colab_link": true
    },
    "kernelspec": {
      "name": "python3",
      "display_name": "Python 3"
    },
    "language_info": {
      "name": "python"
    }
  },
  "cells": [
    {
      "cell_type": "markdown",
      "metadata": {
        "id": "view-in-github",
        "colab_type": "text"
      },
      "source": [
        "<a href=\"https://colab.research.google.com/github/arfaizzarayhani/NumericalMethod/blob/main/MetNum2.ipynb\" target=\"_parent\"><img src=\"https://colab.research.google.com/assets/colab-badge.svg\" alt=\"Open In Colab\"/></a>"
      ]
    },
    {
      "cell_type": "markdown",
      "source": [
        "## **Bisection Method**\n",
        "\n",
        "\n"
      ],
      "metadata": {
        "id": "Me9DH-zmm-cH"
      }
    },
    {
      "cell_type": "code",
      "source": [
        "import pandas as pd\n",
        "import numpy as np\n",
        "import matplotlib.pyplot as plt\n",
        "import math\n",
        "import sympy as sp"
      ],
      "metadata": {
        "id": "7HrMSDFFoyKm"
      },
      "execution_count": null,
      "outputs": []
    },
    {
      "cell_type": "code",
      "source": [
        "def bisection(f, a, b, tol=1e-6, max_iter=100):\n",
        "    # Mendefinisikan fungsi bisection untuk mencari akar fungsi f\n",
        "    # f   : fungsi yang akan dicari akarnya\n",
        "    # a,b : batas bawah dan batas atas interval\n",
        "    # tol : toleransi error (default 1e-6)\n",
        "    # max_iter : jumlah iterasi maksimum (default 100)\n",
        "\n",
        "    if f(a) * f(b) > 0:\n",
        "        # Mengecek apakah tanda nilai fungsi di titik a dan b berbeda.\n",
        "        # Jika f(a) dan f(b) memiliki tanda sama, akar tidak dijamin ada di interval [a, b]\n",
        "        raise ValueError(\"Fungsi tidak memiliki tanda berbeda di a dan b\")\n",
        "\n",
        "    for i in range(max_iter):\n",
        "        # Melakukan perulangan hingga jumlah iterasi maksimum\n",
        "\n",
        "        m = (a + b) / 2\n",
        "        # Menentukan titik tengah interval [a, b]\n",
        "\n",
        "        if abs(f(m)) < tol or (b - a)/2 < tol:\n",
        "            # Jika nilai fungsi di titik m cukup kecil (mendekati 0) atau\n",
        "            # panjang interval sudah lebih kecil dari toleransi,\n",
        "            # maka akar dianggap ditemukan dan dikembalikan.\n",
        "            return m\n",
        "\n",
        "        if f(a) * f(m) < 0:\n",
        "            # Jika akar ada di sisi kiri (antara a dan m),\n",
        "            # maka ubah batas atas menjadi m\n",
        "            b = m\n",
        "        else:\n",
        "            # Jika akar ada di sisi kanan (antara m dan b),\n",
        "            # maka ubah batas bawah menjadi m\n",
        "            a = m\n",
        "\n",
        "    return m\n",
        "    # Jika setelah max_iter iterasi akar belum ditemukan dengan toleransi yang diberikan,\n",
        "    # kembalikan nilai m terakhir sebagai pendekatan akar\n",
        "\n",
        "\n"
      ],
      "metadata": {
        "id": "zQN4ejwxX6oP"
      },
      "execution_count": null,
      "outputs": []
    },
    {
      "cell_type": "markdown",
      "source": [
        "### **Contoh Soal Bisection Method**"
      ],
      "metadata": {
        "id": "ElCsLsiWndkO"
      }
    },
    {
      "cell_type": "code",
      "source": [
        "root = bisection(lambda x: x**3 - 2*x - 5, 1, 3)\n",
        "print(\"Root ditemukan:\", root)"
      ],
      "metadata": {
        "colab": {
          "base_uri": "https://localhost:8080/"
        },
        "id": "ZmokpCwMaKGo",
        "outputId": "0ea0c8df-0edc-41b6-9e69-394bce745e2c"
      },
      "execution_count": null,
      "outputs": [
        {
          "output_type": "stream",
          "name": "stdout",
          "text": [
            "Root ditemukan: 2.0945520401000977\n"
          ]
        }
      ]
    },
    {
      "cell_type": "markdown",
      "source": [
        "## **Regula Falsi**\n",
        "\n",
        "Regula Falsi adalah metode numerik yang menggabungkan antara **Bisection** dengan **Metode Secant** dengan mengambil perpotongan garis lurus (*secant*) dengan sumbu-x."
      ],
      "metadata": {
        "id": "WUUuWsKmnwpa"
      }
    },
    {
      "cell_type": "code",
      "source": [
        "def regula_falsi(f, a, b, tol=1e-6, max_iter=100):\n",
        "    # Implementasi metode Regula Falsi (False Position) untuk mencari akar persamaan f(x)=0.\n",
        "    # f        : fungsi yang akan dicari akarnya\n",
        "    # a, b     : batas interval awal (harus beda tanda: f(a)*f(b) < 0)\n",
        "    # tol      : toleransi error (default 1e-6)\n",
        "    # max_iter : jumlah iterasi maksimal\n",
        "\n",
        "    # Pastikan interval valid: f(a) dan f(b) harus beda tanda\n",
        "    if f(a) * f(b) > 0:\n",
        "        raise ValueError(\"Interval tidak valid, f(a) dan f(b) tidak beda tanda.\")\n",
        "\n",
        "    # Lakukan iterasi pencarian akar\n",
        "    for i in range(max_iter):\n",
        "        # Hitung titik potong garis secant dengan sumbu-x\n",
        "        c = b - (f(b) * (b - a)) / (f(b) - f(a))\n",
        "\n",
        "        # Jika f(c) sudah sangat kecil (mendekati nol), kita anggap sudah ketemu akar\n",
        "        if abs(f(c)) < tol:\n",
        "            return c\n",
        "\n",
        "        # Persempit interval sesuai tanda fungsi\n",
        "        if f(a) * f(c) < 0:\n",
        "            # Akar ada di sisi kiri [a, c]\n",
        "            b = c\n",
        "        else:\n",
        "            # Akar ada di sisi kanan [c, b]\n",
        "            a = c\n",
        "\n",
        "    # Kalau belum konvergen setelah iterasi maksimal, kembalikan hasil terakhir\n",
        "    return c\n"
      ],
      "metadata": {
        "id": "2Tkw5zVwoePS"
      },
      "execution_count": null,
      "outputs": []
    },
    {
      "cell_type": "markdown",
      "source": [
        "## **Newton Method**\n",
        "\n",
        "Adalah suatu metode untuk mencari akar persamaan $$f(x) = 0$$\n",
        "\n",
        "Perbedaannya dengan **Regula Falsi** yaitu, jika Regula Falsi menggunakan garis secant, **Newton Method menggunakan *turunan garis singgung.*** Umumnya Newton's Method jauh lebih cepat daripada Regula Falsi. Hanya apabila tebakan awalnya cukup baik."
      ],
      "metadata": {
        "id": "Ftz6aEqWrA2u"
      }
    },
    {
      "cell_type": "code",
      "source": [
        "x = sp.symbols('x')\n",
        "# Mendefinisikan simbol x untuk persamaan simbolik (dari sympy)\n",
        "\n",
        "f_expr = sp.exp(x) - 2*x**2\n",
        "# Fungsi yang ingin dicari akarnya, di sini f(x) = e^x - 2x^2\n",
        "\n",
        "f = sp.lambdify(x, f_expr, 'numpy')\n",
        "# Mengubah fungsi simbolik f_expr menjadi fungsi numerik (bisa dipanggil seperti f(1.5))\n",
        "\n",
        "f_prime = sp.lambdify(x, sp.diff(f_expr, x), 'numpy')\n",
        "# Hitung turunan f(x), yaitu f'(x), lalu ubah jadi fungsi numerik juga\n",
        "\n",
        "# ---------------------------------------------------------------\n",
        "# Definisi fungsi Newton-Raphson\n",
        "# ---------------------------------------------------------------\n",
        "def newton_method(f, df, x0, tol=1e-6, max_iter=50):\n",
        "  # f   : fungsi yang ingin dicari akarnya\n",
        "  # df  : turunan dari fungsi f\n",
        "  # x0  : tebakan awal\n",
        "  # tol : toleransi error (default 1e-6)\n",
        "  # max_iter : jumlah iterasi maksimum\n",
        "\n",
        "  x = x0   # inisialisasi tebakan awal\n",
        "  for i in range(max_iter):\n",
        "    if abs(df(x)) < 1e-12:\n",
        "      # Jika turunan terlalu kecil (≈ nol), metode gagal karena bisa menyebabkan pembagian nol\n",
        "      raise ValueError(\"Turunan mendekati nol!\")\n",
        "\n",
        "    # Rumus iterasi Newton-Raphson:\n",
        "    # x_(n+1) = x_n - f(x_n)/f'(x_n)\n",
        "    x_new = x - f(x)/df(x)\n",
        "\n",
        "    # Cek apakah hasil iterasi sudah cukup dekat (selisih < toleransi)\n",
        "    if abs(x_new - x) < tol:\n",
        "      return x_new   # akar ditemukan, keluar dari fungsi\n",
        "\n",
        "    # Update x untuk iterasi berikutnya\n",
        "    x = x_new\n",
        "\n",
        "  # Jika sudah mencapai iterasi maksimum tanpa konvergen,\n",
        "  # kembalikan hasil terakhir sebagai aproksimasi akar\n",
        "  return x\n"
      ],
      "metadata": {
        "id": "phP5qHegrNWn"
      },
      "execution_count": null,
      "outputs": []
    },
    {
      "cell_type": "markdown",
      "source": [
        "## **Metode Secant**"
      ],
      "metadata": {
        "id": "4kYJN2cXv-XQ"
      }
    },
    {
      "cell_type": "code",
      "source": [
        "def secant(f, x0, x1, tol_f, tol_x, maxit):\n",
        "    \"\"\"\n",
        "    Implementasi metode Secant sesuai dengan kode di gambar.\n",
        "    f      : fungsi yang dicari akarnya\n",
        "    x0,x1  : tebakan awal\n",
        "    tol_f  : toleransi nilai fungsi (|f(x)| mendekati nol)\n",
        "    tol_x  : toleransi perubahan nilai x\n",
        "    maxit  : jumlah iterasi maksimal\n",
        "    \"\"\"\n",
        "\n",
        "    for k in range(1, maxit+1):\n",
        "        f0, f1 = f(x0), f(x1)             # hitung f(x0) dan f(x1)\n",
        "\n",
        "        if abs(f1) < tol_f:               # kalau f(x1) sudah cukup kecil → selesai\n",
        "            return x1\n",
        "\n",
        "        denom = (f1 - f0)                   # penyebut\n",
        "        if abs(denom) < eps: error(\"division by ~0\")\n",
        "\n",
        "        x2 = x1 - f1 * (x1 - x0) / denom  # rumus utama metode Secant\n",
        "\n",
        "        if abs(x2 - x1) < tol_x:          # cek perubahan x\n",
        "            return x2\n",
        "\n",
        "        # update nilai untuk iterasi selanjutnya\n",
        "        x0, x1 = x1, x2\n",
        "\n",
        "    return x1   # kembalikan hasil terakhir kalau belum konvergen\n"
      ],
      "metadata": {
        "id": "CivqkK0WwNeI"
      },
      "execution_count": null,
      "outputs": []
    }
  ]
}