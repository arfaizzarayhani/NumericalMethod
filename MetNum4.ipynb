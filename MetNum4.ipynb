{
  "nbformat": 4,
  "nbformat_minor": 0,
  "metadata": {
    "colab": {
      "provenance": [],
      "authorship_tag": "ABX9TyNvkk6roymS/qcgy5TxBthw",
      "include_colab_link": true
    },
    "kernelspec": {
      "name": "python3",
      "display_name": "Python 3"
    },
    "language_info": {
      "name": "python"
    }
  },
  "cells": [
    {
      "cell_type": "markdown",
      "metadata": {
        "id": "view-in-github",
        "colab_type": "text"
      },
      "source": [
        "<a href=\"https://colab.research.google.com/github/arfaizzarayhani/NumericalMethod/blob/main/MetNum4.ipynb\" target=\"_parent\"><img src=\"https://colab.research.google.com/assets/colab-badge.svg\" alt=\"Open In Colab\"/></a>"
      ]
    },
    {
      "cell_type": "code",
      "execution_count": 14,
      "metadata": {
        "colab": {
          "base_uri": "https://localhost:8080/"
        },
        "id": "rAMl1PQk0TeM",
        "outputId": "aafcbfd3-9113-494b-f7cc-512808945eb3"
      },
      "outputs": [
        {
          "output_type": "stream",
          "name": "stdout",
          "text": [
            "[[-2  1  2]\n",
            " [ 7  0  5]\n",
            " [ 2 -1  3]]\n",
            "Transpose A:\n",
            " [[-2  7  2]\n",
            " [ 1  0 -1]\n",
            " [ 2  5  3]]\n",
            "Matriks B:\n",
            " [[ 5  7 -1]\n",
            " [ 2 -8 -9]\n",
            " [ 1  2  3]]\n",
            "Perkalian A * B =\n",
            " [[ -6 -18  -1]\n",
            " [ 40  59   8]\n",
            " [ 11  28  16]]\n"
          ]
        }
      ],
      "source": [
        "import numpy as np\n",
        "u = np.array([1, 2, 3])\n",
        "\n",
        "A = np.array([[-2, 1, 2], [7, 0, 5], [2, -1, 3]])\n",
        "print(A)\n",
        "print(\"Transpose A:\\n\", A.T)\n",
        "\n",
        "B = np.array([[5, 7, -1], [2, -8, -9], [1, 2, 3]])\n",
        "print(\"Matriks B:\\n\", B)\n",
        "print(\"Perkalian A * B =\\n\", A@B)"
      ]
    },
    {
      "cell_type": "code",
      "source": [
        "from scipy.linalg import lu\n",
        "\n",
        "A = np.array([[-2, 1, 2], [7, 0, 5], [2, -1, 3]])\n",
        "P, L, U = lu(A)\n",
        "print(\"L =\\n\", L)\n",
        "print(\"U =\\n\", U)\n"
      ],
      "metadata": {
        "colab": {
          "base_uri": "https://localhost:8080/"
        },
        "id": "s5OYY9w-6y9l",
        "outputId": "c50247c6-e52c-4b53-e73c-eb5869b91489"
      },
      "execution_count": 21,
      "outputs": [
        {
          "output_type": "stream",
          "name": "stdout",
          "text": [
            "L =\n",
            " [[ 1.          0.          0.        ]\n",
            " [-0.28571429  1.          0.        ]\n",
            " [ 0.28571429 -1.          1.        ]]\n",
            "U =\n",
            " [[7.         0.         5.        ]\n",
            " [0.         1.         3.42857143]\n",
            " [0.         0.         5.        ]]\n"
          ]
        }
      ]
    },
    {
      "cell_type": "code",
      "source": [
        "from scipy.linalg import qr\n",
        "A = np.array([[-2, 1, 2], [7, 0, 5], [2, -1, 3]])\n",
        "Q, R = qr(A)\n",
        "print(\"Q:\\n\", Q)\n",
        "print(\"R:\\n\", R)"
      ],
      "metadata": {
        "colab": {
          "base_uri": "https://localhost:8080/"
        },
        "id": "Wf_hMTTn8Wvi",
        "outputId": "631ec5f5-5cac-467a-c3cf-f9988635a15f"
      },
      "execution_count": 22,
      "outputs": [
        {
          "output_type": "stream",
          "name": "stdout",
          "text": [
            "Q:\n",
            " [[-0.26490647 -0.65561007  0.70710678]\n",
            " [ 0.92717265 -0.37463432  0.        ]\n",
            " [ 0.26490647  0.65561007  0.70710678]]\n",
            "R:\n",
            " [[ 7.54983444 -0.52981294  4.90076972]\n",
            " [ 0.         -1.31122014 -1.21756156]\n",
            " [ 0.          0.          3.53553391]]\n"
          ]
        }
      ]
    },
    {
      "cell_type": "code",
      "source": [
        "A = np.array([[-2, 1, 2], [7, 0, 5], [2, -1, 3]])\n",
        "vals, vecs = np.linalg.eig(A)\n",
        "print(\"Nilai Eigen:\\n\", vals)\n",
        "print(\"Vektor Eigen:\\n\", vecs)"
      ],
      "metadata": {
        "colab": {
          "base_uri": "https://localhost:8080/"
        },
        "id": "4P7wSaXx9WRC",
        "outputId": "88a19aab-da58-459f-824c-2ad3ed1f7661"
      },
      "execution_count": 23,
      "outputs": [
        {
          "output_type": "stream",
          "name": "stdout",
          "text": [
            "Nilai Eigen:\n",
            " [-4.06685449+0.j         2.53342724+1.4791573j  2.53342724-1.4791573j]\n",
            "Vektor Eigen:\n",
            " [[ 0.62383659+0.j         -0.25940278-0.02257034j -0.25940278+0.02257034j]\n",
            " [-0.72974709+0.j         -0.92825737+0.j         -0.92825737-0.j        ]\n",
            " [-0.27981619+0.j         -0.1071706 -0.24300926j -0.1071706 +0.24300926j]]\n"
          ]
        }
      ]
    }
  ]
}